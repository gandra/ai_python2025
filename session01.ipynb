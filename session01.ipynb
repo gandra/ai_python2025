{
 "cells": [
  {
   "cell_type": "markdown",
   "id": "86e4e71d",
   "metadata": {},
   "source": [
    "# GenAI/RAG in Python 2025\n",
    "\n",
    "## Session 01. A Basic RAG Framework"
   ]
  },
  {
   "cell_type": "code",
   "execution_count": 1,
   "id": "b04159b7",
   "metadata": {},
   "outputs": [],
   "source": [
    "import os\n",
    "import numpy as np\n",
    "import pandas as pd\n",
    "from openai import OpenAI"
   ]
  },
  {
   "cell_type": "markdown",
   "id": "9756641c",
   "metadata": {},
   "source": [
    "## 1. Let's grab some text... Italian cuisine, for example?"
   ]
  },
  {
   "cell_type": "code",
   "execution_count": 2,
   "id": "ffc71709",
   "metadata": {},
   "outputs": [
    {
     "name": "stdout",
     "output_type": "stream",
     "text": [
      "<class 'pandas.core.frame.DataFrame'>\n",
      "RangeIndex: 220 entries, 0 to 219\n",
      "Data columns (total 2 columns):\n",
      " #   Column   Non-Null Count  Dtype \n",
      "---  ------   --------------  ----- \n",
      " 0   title    220 non-null    object\n",
      " 1   receipt  220 non-null    object\n",
      "dtypes: object(2)\n",
      "memory usage: 3.6+ KB\n",
      "None\n",
      "                 title                                            receipt\n",
      "0  BROTH OR SOUP STOCK  (Brodo) To obtain good broth the meat must be ...\n",
      "1           BREAD SOUP  (Panata) This excellent and nutritious soup is...\n",
      "2              GNOCCHI  This is an excellent soup, but as it requires ...\n",
      "3       VEGETABLE SOUP  (Zuppa Sante) Any kind of vegetables may be us...\n",
      "4         QUEEN'S SOUP  (Zuppa Regina) This is made with the white mea...\n"
     ]
    }
   ],
   "source": [
    "# Path to the CSV file\n",
    "file_path = \"_data/italian_recipes_clean.csv\"\n",
    "\n",
    "# Load the CSV into a Pandas DataFrame\n",
    "df = pd.read_csv(file_path)\n",
    "\n",
    "# Display some basic information\n",
    "print(df.info())\n",
    "print(df.head())"
   ]
  },
  {
   "cell_type": "code",
   "execution_count": 3,
   "id": "4ac5a132",
   "metadata": {},
   "outputs": [
    {
     "data": {
      "text/html": [
       "<div>\n",
       "<style scoped>\n",
       "    .dataframe tbody tr th:only-of-type {\n",
       "        vertical-align: middle;\n",
       "    }\n",
       "\n",
       "    .dataframe tbody tr th {\n",
       "        vertical-align: top;\n",
       "    }\n",
       "\n",
       "    .dataframe thead th {\n",
       "        text-align: right;\n",
       "    }\n",
       "</style>\n",
       "<table border=\"1\" class=\"dataframe\">\n",
       "  <thead>\n",
       "    <tr style=\"text-align: right;\">\n",
       "      <th></th>\n",
       "      <th>title</th>\n",
       "      <th>receipt</th>\n",
       "    </tr>\n",
       "  </thead>\n",
       "  <tbody>\n",
       "    <tr>\n",
       "      <th>0</th>\n",
       "      <td>BROTH OR SOUP STOCK</td>\n",
       "      <td>(Brodo) To obtain good broth the meat must be ...</td>\n",
       "    </tr>\n",
       "    <tr>\n",
       "      <th>1</th>\n",
       "      <td>BREAD SOUP</td>\n",
       "      <td>(Panata) This excellent and nutritious soup is...</td>\n",
       "    </tr>\n",
       "    <tr>\n",
       "      <th>2</th>\n",
       "      <td>GNOCCHI</td>\n",
       "      <td>This is an excellent soup, but as it requires ...</td>\n",
       "    </tr>\n",
       "    <tr>\n",
       "      <th>3</th>\n",
       "      <td>VEGETABLE SOUP</td>\n",
       "      <td>(Zuppa Sante) Any kind of vegetables may be us...</td>\n",
       "    </tr>\n",
       "    <tr>\n",
       "      <th>4</th>\n",
       "      <td>QUEEN'S SOUP</td>\n",
       "      <td>(Zuppa Regina) This is made with the white mea...</td>\n",
       "    </tr>\n",
       "    <tr>\n",
       "      <th>...</th>\n",
       "      <td>...</td>\n",
       "      <td>...</td>\n",
       "    </tr>\n",
       "    <tr>\n",
       "      <th>215</th>\n",
       "      <td>LEMON ICE</td>\n",
       "      <td>(Gelato di limone) Granulated sugar, 3/4 lb. W...</td>\n",
       "    </tr>\n",
       "    <tr>\n",
       "      <th>216</th>\n",
       "      <td>STRAWBERRY ICE</td>\n",
       "      <td>(Gelato di fragola) Ripe strawberries, 3/4 lb....</td>\n",
       "    </tr>\n",
       "    <tr>\n",
       "      <th>217</th>\n",
       "      <td>ORANGE ICE</td>\n",
       "      <td>(Gelato di aranci) Four big oranges. One lemon...</td>\n",
       "    </tr>\n",
       "    <tr>\n",
       "      <th>218</th>\n",
       "      <td>PISTACHE ICE CREAM</td>\n",
       "      <td>(Gelato di pistacchi) Milk, one quart. Sugar, ...</td>\n",
       "    </tr>\n",
       "    <tr>\n",
       "      <th>219</th>\n",
       "      <td>TUTTI FRUTTI</td>\n",
       "      <td>To make this ice a special ice cream mold is n...</td>\n",
       "    </tr>\n",
       "  </tbody>\n",
       "</table>\n",
       "<p>220 rows × 2 columns</p>\n",
       "</div>"
      ],
      "text/plain": [
       "                   title                                            receipt\n",
       "0    BROTH OR SOUP STOCK  (Brodo) To obtain good broth the meat must be ...\n",
       "1             BREAD SOUP  (Panata) This excellent and nutritious soup is...\n",
       "2                GNOCCHI  This is an excellent soup, but as it requires ...\n",
       "3         VEGETABLE SOUP  (Zuppa Sante) Any kind of vegetables may be us...\n",
       "4           QUEEN'S SOUP  (Zuppa Regina) This is made with the white mea...\n",
       "..                   ...                                                ...\n",
       "215            LEMON ICE  (Gelato di limone) Granulated sugar, 3/4 lb. W...\n",
       "216       STRAWBERRY ICE  (Gelato di fragola) Ripe strawberries, 3/4 lb....\n",
       "217           ORANGE ICE  (Gelato di aranci) Four big oranges. One lemon...\n",
       "218   PISTACHE ICE CREAM  (Gelato di pistacchi) Milk, one quart. Sugar, ...\n",
       "219         TUTTI FRUTTI  To make this ice a special ice cream mold is n...\n",
       "\n",
       "[220 rows x 2 columns]"
      ]
     },
     "execution_count": 3,
     "metadata": {},
     "output_type": "execute_result"
    }
   ],
   "source": [
    "df"
   ]
  },
  {
   "cell_type": "code",
   "execution_count": 4,
   "id": "48fbbd06",
   "metadata": {},
   "outputs": [
    {
     "data": {
      "text/plain": [
       "'(Brodo) To obtain good broth the meat must be put in cold water, and then allowed to boil slowly. Add to the meat some pieces of bones and \"soup greens\" as, for instance, celery, carrots and parsley. To give a brown color to the broth, some sugar, first browned at the fire, then diluted in cold water, may be added. While it is not considered that the broth has much nutritive power, it is excellent to promote the digestion. Nearly all the Italian soups are made on a basis of broth. A good recipe for substantial broth to be used for invalids is the following: Cut some beef in thin slices and place them in a large saucepan; add some salt. Pour cold water upon them, so that they are entirely covered. Cover the saucepan so that it is hermetically closed and place on the cover a receptacle containing water, which must be constantly renewed. Keep on a low fire for six hours, then on a strong fire for ten minutes. Strain the liquid in cheese cloth. The soup stock, besides being used for soups, is a necessary ingredient in hundreds of Italian dishes. SOUP OF \"CAPPELLETTI\" This Soup is called of \"=Cappelletti=\" or \"little hats\" on account of the shape of the \"=Cappelletti=\". First a thin sheet of paste is made according to the following directions: The best and most tender paste is made simply of eggs, flour and salt, water may be substituted for part of the eggs, for economy, or when a less rich paste is needed. Allow about a cup of flour to an egg. Put the flour on a bread board, make a hollow in the middle and break in the egg. Use any extra whites that are on hand. Knead it thoroughly, adding more flour if necessary, until you have a paste you can roll out. Roll it as thin as an eighth of an inch. A long rolling pin is necessary, but any stick, well scrubbed and sand papered, will serve in lieu of the long Italian rolling pin. Cut from this sheet of paste rounds measuring about three inches in diameter. In the middle of each circle place a spoonful of filling that must be made beforehand, composed of cooked meat (chicken, pork or veal) ground very fine and seasoned with grated cheese, grated lemon peel, nutmeg, allspice, salt. The ground meat is to be mixed with an equal amount of curds or cottage cheese. When the filling is placed in the circle of paste, fold the latter over and moisten the edge of the paste with the finger dipped in water to make it stay securely closed. These =cappelletti= should be cooked in chicken or beef broth until the paste is tender, and served with this broth as a soup.'"
      ]
     },
     "execution_count": 4,
     "metadata": {},
     "output_type": "execute_result"
    }
   ],
   "source": [
    "df[\"receipt\"][0]"
   ]
  },
  {
   "cell_type": "markdown",
   "id": "3c4e432c",
   "metadata": {},
   "source": [
    "### We would like to build a system that...\n",
    "\n",
    "(1) Takes user input in the form of a question (e.g. \"I'd like to cook something with carrots\"), (2) performs a similarity search across the recipes in the `df` DataFrame, (3) obtains the most similar five recipes, lists them, and (4) combines them with a prompt sent to ChatGPT to shape the final response that is shared with the user.  "
   ]
  },
  {
   "cell_type": "markdown",
   "id": "ff4d704f",
   "metadata": {},
   "source": [
    "## 2. Vector embeddings for similarity search\n",
    "\n",
    "All recipes must be embedded in order to be prepared for similarity search.\n",
    "\n",
    "We will use OpenAI's embedding models this time."
   ]
  },
  {
   "cell_type": "code",
   "execution_count": 5,
   "id": "0db3562f",
   "metadata": {},
   "outputs": [
    {
     "data": {
      "text/html": [
       "<div>\n",
       "<style scoped>\n",
       "    .dataframe tbody tr th:only-of-type {\n",
       "        vertical-align: middle;\n",
       "    }\n",
       "\n",
       "    .dataframe tbody tr th {\n",
       "        vertical-align: top;\n",
       "    }\n",
       "\n",
       "    .dataframe thead th {\n",
       "        text-align: right;\n",
       "    }\n",
       "</style>\n",
       "<table border=\"1\" class=\"dataframe\">\n",
       "  <thead>\n",
       "    <tr style=\"text-align: right;\">\n",
       "      <th></th>\n",
       "      <th>title</th>\n",
       "      <th>receipt</th>\n",
       "      <th>embedding</th>\n",
       "    </tr>\n",
       "  </thead>\n",
       "  <tbody>\n",
       "    <tr>\n",
       "      <th>0</th>\n",
       "      <td>BROTH OR SOUP STOCK</td>\n",
       "      <td>(Brodo) To obtain good broth the meat must be ...</td>\n",
       "      <td>[0.0006991069531068206, -0.03424821421504021, ...</td>\n",
       "    </tr>\n",
       "    <tr>\n",
       "      <th>1</th>\n",
       "      <td>BREAD SOUP</td>\n",
       "      <td>(Panata) This excellent and nutritious soup is...</td>\n",
       "      <td>[0.01498448383063078, -0.008606121875345707, 0...</td>\n",
       "    </tr>\n",
       "    <tr>\n",
       "      <th>2</th>\n",
       "      <td>GNOCCHI</td>\n",
       "      <td>This is an excellent soup, but as it requires ...</td>\n",
       "      <td>[-0.003438756102696061, -0.004649834707379341,...</td>\n",
       "    </tr>\n",
       "    <tr>\n",
       "      <th>3</th>\n",
       "      <td>VEGETABLE SOUP</td>\n",
       "      <td>(Zuppa Sante) Any kind of vegetables may be us...</td>\n",
       "      <td>[-0.016981083899736404, 0.001846199156716466, ...</td>\n",
       "    </tr>\n",
       "    <tr>\n",
       "      <th>4</th>\n",
       "      <td>QUEEN'S SOUP</td>\n",
       "      <td>(Zuppa Regina) This is made with the white mea...</td>\n",
       "      <td>[0.014747325330972672, 0.007032071240246296, 0...</td>\n",
       "    </tr>\n",
       "  </tbody>\n",
       "</table>\n",
       "</div>"
      ],
      "text/plain": [
       "                 title                                            receipt  \\\n",
       "0  BROTH OR SOUP STOCK  (Brodo) To obtain good broth the meat must be ...   \n",
       "1           BREAD SOUP  (Panata) This excellent and nutritious soup is...   \n",
       "2              GNOCCHI  This is an excellent soup, but as it requires ...   \n",
       "3       VEGETABLE SOUP  (Zuppa Sante) Any kind of vegetables may be us...   \n",
       "4         QUEEN'S SOUP  (Zuppa Regina) This is made with the white mea...   \n",
       "\n",
       "                                           embedding  \n",
       "0  [0.0006991069531068206, -0.03424821421504021, ...  \n",
       "1  [0.01498448383063078, -0.008606121875345707, 0...  \n",
       "2  [-0.003438756102696061, -0.004649834707379341,...  \n",
       "3  [-0.016981083899736404, 0.001846199156716466, ...  \n",
       "4  [0.014747325330972672, 0.007032071240246296, 0...  "
      ]
     },
     "execution_count": 5,
     "metadata": {},
     "output_type": "execute_result"
    }
   ],
   "source": [
    "# Set your API key (ensure OPENAI_API_KEY is set in your environment)\n",
    "api_key = os.getenv(\"OPENAI_API_KEY\")\n",
    "\n",
    "# Instantiate the OpenAI client with your API key  \n",
    "client = OpenAI(api_key=api_key)                    \n",
    "\n",
    "# Select the embedding model to use (as per OpenAI docs)  \n",
    "model_name = \"text-embedding-3-small\"      \n",
    "\n",
    "# Prepare a list to collect embedding vectors  \n",
    "embeddings = []                            \n",
    "\n",
    "# Iterate over each row in your DataFrame `df`  \n",
    "for idx, row in df.iterrows():\n",
    "    # grab the receipt text for this row              \n",
    "    text = row[\"receipt\"]  \n",
    "    # If it's not a valid string, skip embedding  \n",
    "    if not isinstance(text, str) or text.strip() == \"\":  \n",
    "        embeddings.append(None)             \n",
    "        continue                            \n",
    "\n",
    "    # Call the embeddings endpoint on the client  \n",
    "    resp = client.embeddings.create(        \n",
    "        model=model_name,                   \n",
    "        input=[text]                        \n",
    "    )                                     \n",
    "\n",
    "    # Extract the embedding vector from the response object  \n",
    "    emb = resp.data[0].embedding            \n",
    "\n",
    "    # Append that embedding vector to our list  \n",
    "    embeddings.append(emb)                  \n",
    "\n",
    "# After the loop, assign embeddings list to a new DataFrame column  \n",
    "df[\"embedding\"] = embeddings               \n",
    "\n",
    "# Show first few rows to verify  \n",
    "df.head()      "
   ]
  },
  {
   "cell_type": "code",
   "execution_count": 6,
   "id": "083efef0",
   "metadata": {},
   "outputs": [
    {
     "data": {
      "text/plain": [
       "list"
      ]
     },
     "execution_count": 6,
     "metadata": {},
     "output_type": "execute_result"
    }
   ],
   "source": [
    "type(df['embedding'][0])"
   ]
  },
  {
   "cell_type": "code",
   "execution_count": 7,
   "id": "cb3ee7a0",
   "metadata": {},
   "outputs": [
    {
     "data": {
      "text/plain": [
       "1536"
      ]
     },
     "execution_count": 7,
     "metadata": {},
     "output_type": "execute_result"
    }
   ],
   "source": [
    "len(df['embedding'][0])"
   ]
  },
  {
   "cell_type": "markdown",
   "id": "3e125a69",
   "metadata": {},
   "source": [
    "## 3. Now we need a user input..."
   ]
  },
  {
   "cell_type": "code",
   "execution_count": 8,
   "id": "46f86021",
   "metadata": {},
   "outputs": [],
   "source": [
    "user_text = \"\"\"\n",
    "Hi! I’d like to cook a good Italian dish for lunch! I have potatoes, carrots, \n",
    "rosemary, and pork. Can you recommend a recipe and help me a bit with \n",
    "preparation tips?\n",
    "\"\"\""
   ]
  },
  {
   "cell_type": "markdown",
   "id": "5945843b",
   "metadata": {},
   "source": [
    "... and of course we need an embedding of `user_text` as well:"
   ]
  },
  {
   "cell_type": "code",
   "execution_count": 9,
   "id": "9c2fc19e",
   "metadata": {},
   "outputs": [
    {
     "name": "stdout",
     "output_type": "stream",
     "text": [
      "<class 'list'>\n",
      "1536\n"
     ]
    }
   ],
   "source": [
    "resp = client.embeddings.create(        \n",
    "        model=model_name,                   \n",
    "        input=[user_text]                        \n",
    "    )\n",
    "user_query = resp.data[0].embedding\n",
    "\n",
    "print(type(user_query))\n",
    "print(len(user_query))"
   ]
  },
  {
   "cell_type": "markdown",
   "id": "4eccab36",
   "metadata": {},
   "source": [
    "## 4. Find the most suitable examples that match the user input"
   ]
  },
  {
   "cell_type": "code",
   "execution_count": null,
   "id": "8f673000",
   "metadata": {},
   "outputs": [
    {
     "name": "stdout",
     "output_type": "stream",
     "text": [
      "LOIN OF PORK ROASTED:\n",
      "(Lombo di maiale arrosto) The loin of pork, cut in little pieces forms an excellent roast at the spit. The pieces of pork are to be divided by little pieces of toast and greased with oil. If the pork is to be baked, choose that piece of the loin that has its ribs and that may weigh six or eight pounds. Lard it with garlic, rosemary or bay leaf and a few cloves, but moderately, and season with salt and pepper. This roast is very popular in Italy, where they call it =arista=.\n",
      "\n",
      "POT ROAST WITH GARLIC AND ROSEMARY:\n",
      "(Arrosto morto coll'odore dell'aglio e del ramerino) Cook the meat as above, but add a clove of garlic and one or two bunches of rosemary in the saucepan. When serving the roast rub the gravy through a sieve without pressing and surround the meat with potatoes or vegetables cooked apart. The leg of lamb comes very well in this way, baked in the oven.\n",
      "\n",
      "LAMB WITH PEAS:\n",
      "(Agnello ai piselli) Take a piece of lamb from the hind side, lard it with two cloves of garlic cut in little strips and with some sprigs of rosemary. Chop fine a piece of lard and a slice of corned beef. Put the lamb on the fire with this hash and a little oil and let it brown after seasoning with salt and pepper. When it is browned add a piece of butter, some tomato sauce, or tomato paste dissolved in water or soup stock and complete the cooking. Take away the lamb, put the peas in the gravy, and when they have simmered a little and are cooked put back the lamb and serve.\n",
      "\n",
      "STEWED HARE:\n",
      "(Stufato di lepre) Take half of a good sized hare and, after cutting it in pieces, chop fine one medium sized onion, one clove of garlic, a stalk of celery and several leaves of rosemary. Put on the fire with some pieces of butter, two tablespoonfuls of olive oil and four or five strips of bacon or salt pork, when the whole has been browning for four or five minutes, put the pieces of hare inside the saucepan and season them with salt, pepper and spices. When it is browned, put a wineglass of white wine, some fresh mushrooms, or dry mushrooms previously softened in water. Complete the cooking with broth and tomato sauce and, if necessary, add another piece of butter.\n",
      "\n",
      "VEGETABLE CHOWDER:\n",
      "(Minestrone alla Milanese) Cut off the rind of 1/2 lb. salt pork and put it into two quarts of water to boil. Cut off a small slice of the pork and beat it to a paste with two or three sprigs of parsley, a little celery and one kernel of garlic. Add this paste to the pork and water. Slice two carrots, cut the rib out of the leaves of 1/4 medium sized cabbage. Add the carrots, cabbage leaves, other vegetables, seasoning and butter to the soup, and let it boil slowly for 2-1/2 hours. The last 1/2 hour add one small handful of rice for each person. When the pork is very soft, remove and slice in little ribbons and put it back. The minestrone is equally good eaten cold.\n"
     ]
    }
   ],
   "source": [
    "# scipy has a function to compute cosine distance: cosine()\n",
    "from scipy.spatial.distance import cosine\n",
    "\n",
    "# Compute similarity scores: similarity = 1 − cosine_distance\n",
    "scores = []\n",
    "for emb in df[\"embedding\"]:\n",
    "    if emb is None:\n",
    "        scores.append(-1.0)\n",
    "    else:\n",
    "        # np.array is a vector data type that scipy wants to see\n",
    "        # in place of a list \n",
    "        scores.append(1.0 - cosine(np.array(emb), np.array(user_query)))\n",
    "\n",
    "# Get top 5 indices\n",
    "top5 = np.argsort(scores)[-5:]\n",
    "# N.B. np.argsort(scores) — returns an array of indices that would \n",
    "# sort scores in ascending order. \n",
    "# [-5:] — takes the last 5 indices from that sorted‐indices array. \n",
    "# Since the full array is in ascending order, its last 5 indices correspond to \n",
    "# the 5 highest scores.\n",
    "\n",
    "# Build a single output string with titles and recipes\n",
    "output_lines = []\n",
    "for i in top5:\n",
    "    title = df.iloc[i][\"title\"]\n",
    "    recipe = df.iloc[i][\"receipt\"]\n",
    "    output_lines.append(f\"{title}:\\n{recipe}\")\n",
    "prompt_recipes = \"\\n\\n\".join(output_lines)\n",
    "\n",
    "print(prompt_recipes)"
   ]
  },
  {
   "cell_type": "markdown",
   "id": "2d0bd07b",
   "metadata": {
    "vscode": {
     "languageId": "latex"
    }
   },
   "source": [
    "$$\n",
    "\\cos\\theta = \\frac{\\mathbf{a} \\cdot \\mathbf{b}}{\\|\\mathbf{a}\\|\\;\\|\\mathbf{b}\\|}\n",
    "= \\frac{\\sum_{i=1}^n a_i\\,b_i}{\\sqrt{\\sum_{i=1}^n a_i^2}\\;\\sqrt{\\sum_{i=1}^n b_i^2}}\n",
    "$$\n",
    "\n",
    "A common definition of **cosine similarity** is:\n",
    "\n",
    "$$\n",
    "d_{\\text{cos}}(\\mathbf{a},\\mathbf{b}) = 1 - \\cos\\theta\n",
    "$$\n",
    "\n",
    "- In text / embedding applications, higher cosine similarity (or lower cosine distance) means vectors are more semantically aligned.\n",
    "\n"
   ]
  },
  {
   "cell_type": "markdown",
   "id": "1c46eaf9",
   "metadata": {},
   "source": [
    "## 5. Finally, use an LLM to shape the final response"
   ]
  },
  {
   "cell_type": "code",
   "execution_count": 28,
   "id": "ad5f59cc",
   "metadata": {},
   "outputs": [],
   "source": [
    "prompt = f\"\"\"\n",
    "You are a helpful Italian cooking assistant.  \n",
    "Here are some recipe examples I found that may or may not be relevant to the user's request:\n",
    "\n",
    "{prompt_recipes}\n",
    "\n",
    "User’s question: \"{user_text}\"\n",
    "\n",
    "From the examples above:\n",
    "1. Determine which recipes are *relevant* to what the user asked and which are not.\n",
    "2. Discard or ignore irrelevant ones, and focus on relevant ones.\n",
    "3. For each relevant example, rephrase the recipe in a more narrative, \n",
    "conversational style, adding cooking tips, alternative ingredients, variations, \n",
    "or suggestions.\n",
    "4. Then produce a final response to the user: a narrative that weaves \n",
    "together those enhanced recipes (titles + steps + tips) in an engaging way.\n",
    "5. Don't forget to use the original titles of the recipes.\n",
    "6. Advise on more than one recipe - if there are more than one relevant!\n",
    "\n",
    "Do not just list recipes — tell a story, connect to the user's question, \n",
    "and use the examples as inspirations, but enhance them.  \n",
    "Make sure your response is clear, helpful, and focused on what the user wants.\n",
    "\"\"\"\n"
   ]
  },
  {
   "cell_type": "code",
   "execution_count": 29,
   "id": "d25dc26f",
   "metadata": {},
   "outputs": [
    {
     "name": "stdout",
     "output_type": "stream",
     "text": [
      "Buongiorno! Since you’ve got potatoes, carrots, rosemary, and pork, we can prepare an enticing Italian dish just using these ingredients. Thinking about what we have at hand, two recipes come to mind that could bring the Italian countryside's flavor into your kitchen.\n",
      "\n",
      "First, we can take inspiration from the \"Loin of Pork Roasted\" recipe. You don't have a whole loin, but don't worry, any cut of pork will do. Grab your pork and cut it into small portions, about an inch thick – this will ensure the meat cooks evenly and helps to absorb more flavors. Sprinkle each piece with salt, pepper, and finely chopped rosemary. Let this marinate for a while to let the flavors settle in. While this is happening, we can prepare the potatoes and carrots into bite-sized pieces - this will be our rustic side dish.\n",
      "\n",
      "Put a drizzle of olive oil in a roasting pan and lay your pork pieces in, making sure not to crowd the pan. We want the meat to roast, not steam. Arrange your potato and carrot pieces around the pork. Drizzle everything with a bit more olive oil and sprinkle some salt, pepper, and rosemary on the vegetables. Pop this in a preheated oven at 375°F (190°C) for about 30-45 minutes. You're looking for your pork to be beautifully browned, and your veggies tender and caramelized – that's when you know it's ready. \n",
      "\n",
      "The second suggestion is a twist on the Italian classic Minestrone alla Milanese. With the ingredients available, you can make a simplified one-pot pork roast with vegetable stew. Start by cutting your pork into bite-sized pieces and seasoning with salt, pepper, and rosemary as before. Now cut your potatoes and carrots into similar sizes. \n",
      "\n",
      "Take a thick-bottomed pot, smother some oil and heat it. Add your pork pieces and let it brown on all sides. This browning is key to get that rich, deep flavor in the stew. Once done, toss in the bulk of your rosemary, letting it infuse the oil and coat the pork. Now add your diced potatoes and carrots in the pot, stirring everything so that it's well combined. Add enough water to cover all the ingredients, lower the heat, and cover the pot. Let it simmer until the meat is tender and the flavors well integrated, normally around one hour or so. \n",
      "\n",
      "Remember, Italian cooking is all about savoring each ingredient's flavor, so don't rush the cooking process. There you go, two hearty Italian dishes that put your ingredients to good use. Buon appetito!\n"
     ]
    }
   ],
   "source": [
    "response = client.chat.completions.create(\n",
    "    model=\"gpt-4\",    # or whichever model you prefer\n",
    "    messages=[\n",
    "        {\"role\": \"system\", \"content\": \"You are a helpful Italian cooking assistant.\"},\n",
    "        {\"role\": \"user\", \"content\": prompt}\n",
    "    ],\n",
    "    temperature=1,\n",
    "    max_tokens=5000\n",
    ")\n",
    "\n",
    "reply_text = response.choices[0].message.content\n",
    "print(reply_text)"
   ]
  }
 ],
 "metadata": {
  "kernelspec": {
   "display_name": "aipy_venv",
   "language": "python",
   "name": "python3"
  },
  "language_info": {
   "codemirror_mode": {
    "name": "ipython",
    "version": 3
   },
   "file_extension": ".py",
   "mimetype": "text/x-python",
   "name": "python",
   "nbconvert_exporter": "python",
   "pygments_lexer": "ipython3",
   "version": "3.13.7"
  }
 },
 "nbformat": 4,
 "nbformat_minor": 5
}
